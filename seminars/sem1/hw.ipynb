{
 "cells": [
  {
   "cell_type": "markdown",
   "id": "76874116-86ae-4f61-9234-0e0de4e79a65",
   "metadata": {},
   "source": [
    "## Домашенее задание №2"
   ]
  },
  {
   "cell_type": "markdown",
   "id": "49b0011b-9edd-4ad3-86ec-a88b8d883049",
   "metadata": {},
   "source": [
    "На складе лежат разные фрукты в разном количестве.\r\n",
    "Нужно написать функцию, которая на вход принимает любое\r",
    "количество названий фруктов и их количество, а возвращает\r",
    "общее количество фруктов на складе"
   ]
  },
  {
   "cell_type": "code",
   "execution_count": 12,
   "id": "044946fa-26dc-4978-a641-333afd074731",
   "metadata": {},
   "outputs": [
    {
     "name": "stdout",
     "output_type": "stream",
     "text": [
      "600\n"
     ]
    }
   ],
   "source": [
    "fruits = {\"apple\": 100, \"orange\": 200, \"melon\": 300}\n",
    "\n",
    "def fruits_counter(**kwargs):\n",
    "    return sum(kwargs.values())\n",
    "\n",
    "print(fruits_counter(**fruits))"
   ]
  },
  {
   "cell_type": "markdown",
   "id": "2667f0f6-5db7-428f-9330-d204a94ffc07",
   "metadata": {},
   "source": [
    "## Домашнее задание 3\r\n",
    "Оформление ноутбука и закрепление функций и генераторов\r\n",
    "Дан список с затратами на рекламу. Но в данных есть ошибки,\r",
    "некоторые затраты имеют отрицательную величину. Удалите\r",
    "такие значения из списка и посчитайте суммарные затраты\r\n",
    "[100, 125, -90, 345, 655, -1, 0, 200]\r",
    "Используйте list compreheonnsi"
   ]
  },
  {
   "cell_type": "code",
   "execution_count": 14,
   "id": "cf4e1aab-8504-4d99-b9c7-f523d22164d5",
   "metadata": {},
   "outputs": [
    {
     "data": {
      "text/plain": [
       "1425"
      ]
     },
     "execution_count": 14,
     "metadata": {},
     "output_type": "execute_result"
    }
   ],
   "source": [
    "old_list = [100, 125, -90, 345, 655, -1, 0, 200]\n",
    "new_list = [i for i in old_list if i > 0]\n",
    "sum(new_list)"
   ]
  },
  {
   "cell_type": "markdown",
   "id": "f9adb96a-124a-46d8-a057-0abb2efcd644",
   "metadata": {},
   "source": [
    "## Домашнее задание 4\n",
    "\n",
    "Даны два списка.\n",
    "\r",
    "Дата покупки\n",
    "\r",
    "```\n",
    "['2021-09-14', '2021-12-15', '2021-09-08', '2021-12-05', '2021-10-09', '2021-09-30', '2021-12-22', '2021-11-29', '2021-12-24', '2021-11-26', '2021-10-27', '2021-12-18', '2021-11-09', '2021-11-23', '2021-09-27' \r",
    "'2021-10-02', '2021-12-27', '2021-09-20', '2021-12-13', '2021-11-01', '2021-11-09', '2021-12-06', '2021-12-08', '2021-10-09', '2021-10-31', '2021-09-30', '2021-11-09', '2021-12-13', '2021-10-26', '2021-12-09']\n",
    "```\n",
    "\n",
    "Суммы покупок по датам\n",
    "\r",
    "``` \n",
    "[1270, 8413, 9028, 3703, 5739, 4095, 295, 4944, 5723, 3701, 4471, 651, 7037, 4274, 6275, 4988, 6930, 2971, 6592, 2004, 2822, 519, 3406, 2732, 5015, 2008, 316, 6333, 5700, 2887\n",
    "]]"
   ]
  },
  {
   "cell_type": "markdown",
   "id": "561fe0b0-be2d-4ec5-8a32-ea5e626a5d52",
   "metadata": {},
   "source": [
    "#### 4.1 Найдите, какая выручка у компании в ноябре\n",
    "Используйте list comprehensions"
   ]
  },
  {
   "cell_type": "code",
   "execution_count": 35,
   "id": "e8b2f56a-1029-4196-b29f-864338b7b44e",
   "metadata": {},
   "outputs": [
    {
     "name": "stdout",
     "output_type": "stream",
     "text": [
      "15239\n"
     ]
    }
   ],
   "source": [
    "shopping_dates = ['2021-09-14', '2021-12-15', '2021-09-08', '2021-12-05', '2021-10-09', '2021-09-30', '2021-12-22', \n",
    "                  '2021-11-29', '2021-12-24', '2021-11-26', '2021-10-27', '2021-12-18', '2021-11-09', '2021-11-23', \n",
    "                  '2021-09-27', '2021-10-02', '2021-12-27', '2021-09-20', '2021-12-13', '2021-11-01', '2021-11-09', \n",
    "                  '2021-12-06', '2021-12-08', '2021-10-09', '2021-10-31', '2021-09-30', '2021-11-09', '2021-12-13', \n",
    "                  '2021-10-26', '2021-12-09']\n",
    "\n",
    "shopping_sums = [1270, 8413, 9028, 3703, 5739, 4095, 295, 4944, 5723, 3701, 4471, 651, 7037, 4274, 6275, 4988, 6930, \n",
    "                 2971, 6592, 2004, 2822, 519, 3406, 2732, 5015, 2008, 316, 6333, 5700, 2887]\n",
    "\n",
    "month = 11\n",
    "\n",
    "newd = dict(zip(shopping_dates, shopping_sums))\n",
    "\n",
    "def spendings(shopping_dates: list, shopping_sums: list, month: int=11):\n",
    "    shoppings = dict(zip(shopping_dates, shopping_sums))\n",
    "    sorted_dict = {k: v for k, v in shoppings.items() if str(month) in k}\n",
    "    return sum(sorted_dict.values())\n",
    "\n",
    "print(spendings(shopping_dates, shopping_sums, 11))"
   ]
  },
  {
   "cell_type": "markdown",
   "id": "fb10613f-a95c-4493-947f-ee1843061edf",
   "metadata": {},
   "source": [
    "#### 4.2 Найдите выручку компании в зависимости от месяца\n",
    "Для этого напишите функцию, которая на вход принимает список с датами и список с выручкой, а на выходе словарь, \n",
    "где ключи - это месяцы, а значения - это выручка.\n",
    "\n",
    "Используйте аннотирование типов."
   ]
  },
  {
   "cell_type": "markdown",
   "id": "b2932a18-a386-40dc-87d2-59b5617b252a",
   "metadata": {},
   "source": [
    "It is easy"
   ]
  }
 ],
 "metadata": {
  "kernelspec": {
   "display_name": "Python 3 (ipykernel)",
   "language": "python",
   "name": "python3"
  },
  "language_info": {
   "codemirror_mode": {
    "name": "ipython",
    "version": 3
   },
   "file_extension": ".py",
   "mimetype": "text/x-python",
   "name": "python",
   "nbconvert_exporter": "python",
   "pygments_lexer": "ipython3",
   "version": "3.12.1"
  }
 },
 "nbformat": 4,
 "nbformat_minor": 5
}
