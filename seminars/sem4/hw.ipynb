{
 "cells": [
  {
   "cell_type": "code",
   "execution_count": null,
   "id": "506292f1-7966-4b05-8e0b-892d26f2c005",
   "metadata": {},
   "outputs": [],
   "source": [
    "Домашнее задание 1\n",
    "1.1. Скачать данные по ссылке https://www.kaggle.com/datasets/ionaskel/laptop-prices\n",
    "1.2 Изучите стоимости недвижимости\n",
    "1.3 Изучите распределение квадратуры жилой площади\n",
    "1.4 Изучите распределение года постройки\n",
    "Постройте график\n",
    "Назовите график\n",
    "Сделайте именование оси x и оси y\n",
    "Сделайте выводы"
   ]
  },
  {
   "cell_type": "code",
   "execution_count": null,
   "id": "d829b264-10e8-4cd3-9631-a4e785c50bf5",
   "metadata": {},
   "outputs": [],
   "source": [
    "Домашнее задание 2\n",
    "2.1 Изучите распределение домов от наличия вида на набережную\n",
    "2.2 Изучите распределение этажей домов\n",
    "2.3 Изучите распределение состояния домов\n",
    "\n",
    "Постройте график\n",
    "Сделайте выводы"
   ]
  },
  {
   "cell_type": "code",
   "execution_count": null,
   "id": "72472099-b0a5-4bc0-a1b6-1fb0793160ae",
   "metadata": {},
   "outputs": [],
   "source": [
    "Домашнее задание 3\n",
    "Исследуйте, какие характеристики недвижимости влияют на стоимость недвижимости, с применением не менее 5 диаграмм из урока.\n",
    "Анализ сделайте в формате storytelling: дополнить каждый график письменными выводами и наблюдениями."
   ]
  }
 ],
 "metadata": {
  "kernelspec": {
   "display_name": "Python 3 (ipykernel)",
   "language": "python",
   "name": "python3"
  },
  "language_info": {
   "codemirror_mode": {
    "name": "ipython",
    "version": 3
   },
   "file_extension": ".py",
   "mimetype": "text/x-python",
   "name": "python",
   "nbconvert_exporter": "python",
   "pygments_lexer": "ipython3",
   "version": "3.12.1"
  }
 },
 "nbformat": 4,
 "nbformat_minor": 5
}
